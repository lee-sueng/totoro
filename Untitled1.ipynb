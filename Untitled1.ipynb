{
  "nbformat": 4,
  "nbformat_minor": 0,
  "metadata": {
    "colab": {
      "name": "Untitled1.ipynb",
      "provenance": [],
      "collapsed_sections": [],
      "authorship_tag": "ABX9TyPtMixjDTTQGHAFPiaY7yGd",
      "include_colab_link": true
    },
    "kernelspec": {
      "name": "python3",
      "display_name": "Python 3"
    }
  },
  "cells": [
    {
      "cell_type": "markdown",
      "metadata": {
        "id": "view-in-github",
        "colab_type": "text"
      },
      "source": [
        "<a href=\"https://colab.research.google.com/github/lee-sueng/totoro/blob/master/Untitled1.ipynb\" target=\"_parent\"><img src=\"https://colab.research.google.com/assets/colab-badge.svg\" alt=\"Open In Colab\"/></a>"
      ]
    },
    {
      "cell_type": "markdown",
      "metadata": {
        "id": "NCteXNEXxyB-",
        "colab_type": "text"
      },
      "source": [
        "#인공지능 사관학교 프리코스 과제 목차"
      ]
    },
    {
      "cell_type": "markdown",
      "metadata": {
        "id": "5TX-SAay1D0J",
        "colab_type": "text"
      },
      "source": [
        "**1주차 과제 (2020.5.21)**"
      ]
    },
    {
      "cell_type": "markdown",
      "metadata": {
        "id": "8rk3cncL1ZUN",
        "colab_type": "text"
      },
      "source": [
        "1. 언어 인공지능 \n",
        "네이버의 파파고"
      ]
    },
    {
      "cell_type": "markdown",
      "metadata": {
        "id": "T2NMkIKz2UJK",
        "colab_type": "text"
      },
      "source": [
        "2016년 네이버에서 선보인 딥러닝 기반의 번역기입니다. 네이버에서 자체 개발을 하였으며 2016년 당시 현존하는 번역기중 최고의 성능을 자랑 했으며 해외에도 자주 선보인 프로그램이고 실제 대학을 다닐때 동기들이 많이 사용 하는것을 보았습니다. 최근에는 다른 업체에 조금은 밀리는 느낌이 들고 있다. 구글의 번역기 보다 조금더 우위를 점하는 부분이 아시아권 언어에서 나오는데 조사 과정중 재밌었던게\n",
        "구글은 한국어 <-> 영어 <-> 중국어 or 일본어로 딥러닝을 하는 반면 네이버의 파파고는 한국어 <-> 중국어 or 일본어 <->  영어로 딥러닝을 한다는 것입니다. 이처럼 딥러닝의 순서를 고려하면 조금더 다른 결과가 나온다는 사실이 흥미로웠습니다.\n"
      ]
    },
    {
      "cell_type": "markdown",
      "metadata": {
        "id": "xUI7YCzl3Xk4",
        "colab_type": "text"
      },
      "source": [
        "2. 음성 인공지능 KT 기가지니"
      ]
    },
    {
      "cell_type": "markdown",
      "metadata": {
        "id": "_Aiaivkq5bhf",
        "colab_type": "text"
      },
      "source": [
        "SKT와 삼성 구글 보다는 조금 늦게 스타트해서 상품화한 인공지능 입니다. 하지만 다른 업체들과 조금 다른 능력을 가지고 있는데 그건 최초로 IPTV와 인공지능의 융합으로 집에서 주인을 보좌하는 비서 느낌의 인공지능 입니다.\n",
        "주인은 목소리를 통해 기가지니로 유튜브 , 오늘의 날씨 , 뉴스 등 다양한 정보를\n",
        "획득하고 습득할수 있으며 기가지니는 자체 학습 능력은 없지만 회사에서 정보를 업데이트 하고 고객들이 주로 질문하는 정보를 빅데이터화해 지능이 조금씩 향상 하고 있습니다."
      ]
    },
    {
      "cell_type": "markdown",
      "metadata": {
        "id": "My6ZZbSd5d8N",
        "colab_type": "text"
      },
      "source": [
        "3. 이미지 인공지능 핸드메드-제이뷰어엑스"
      ]
    },
    {
      "cell_type": "markdown",
      "metadata": {
        "id": "2jg2y3ka50ve",
        "colab_type": "text"
      },
      "source": [
        "핸드메드-제이뷰어엑스는 AI 기술을 기반으로 엑스레이(X-ray) 이미지 분석 결과를 도출해 폐질환 진단을 돕습니다. 현지 데이터와 전문의들이 기술 검증을 거치고 있으며, 폐질환자 및 신종 코로나바이러스 감염증(코로나19) 의심환자의 진단을 위해 태국 현지 병원에서 최신 기술을 도입해서 사용될 예정입니다.\n",
        "\n",
        "현재 태국에서는 대형 통신사 등이 의료 인프라에 활용하기 위한 5G 기반 클라우드 의료영상전송시스템(PACS) 공급을 시작하고 있고 제이엘케이는 파트너인 SWN 컨소시엄과 협력을 통하여 5G 기반 클라우드 ACS 시스템에 제이엘케이의 인공지능 시스템을 연동해 태국에서 새로운 신기술을 선보이려 합니다."
      ]
    },
    {
      "cell_type": "markdown",
      "metadata": {
        "id": "FP5auhTn6mvI",
        "colab_type": "text"
      },
      "source": [
        "4. 테슬라의 자율주행 자동차"
      ]
    },
    {
      "cell_type": "markdown",
      "metadata": {
        "id": "L5vuwmSi60Ee",
        "colab_type": "text"
      },
      "source": [
        "2019년 말까지 가장 많이 자율 주행 기술을 개발한 회사입니다. 2020년 완전 자율 주행 기능의 베타 버전을 출시할 것으로 예상 발표하였으며, 이런 기능을 70만 대 이상의 테슬라 자동차에서 적용하고 딥러닝을 통해서 교육을 받음으로서 사람보다 사고확률이 낮은 것이 통계적으로 검증되면, 2020년 말 이후에 백만 대 이상의 자율 주행 자동차를 사용하여 공유 자동차 서비스인 테슬라 네트웍을 통한 로보 택시 서비스를 시작할 것으로 예하여 발표했습니다.\n",
        "\n",
        "2020년 테슬라의 인공신경망은 최근의 인공지능연구를 적용하여, 인식과 조작의 문제를 딥러닝으로 교육하고 있고 테슬라의 8개의 카메라의 이미지마다 각각의 인공신경망이 원이미지들을 분석하여, 의미적 분할, 객체 인식, 거리의 예측을 수행한다. 모든 이미지를 통합하여 도로의 모양과 정적인 구조물들, 3차원 객체를 분석해 내며, 테슬라 네트웍은 백만대이상의 자동차로부터 수집되는 데이터를 실시간으로 분석하여 복잡한 개별 시나리오로부터 학습을 합니다. 하나의 테슬라 오토파일럿 인공신경망은 7만 GPU시간 동안 학습된 48개의 네트웍에 간여하며, 매 시간 단위마다 천 개의 텐서/예측을 출력해 냅니다."
      ]
    }
  ]
}